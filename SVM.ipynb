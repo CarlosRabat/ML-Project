{
 "cells": [
  {
   "cell_type": "markdown",
   "metadata": {},
   "source": [
    "# SVM Model Implementation"
   ]
  },
  {
   "cell_type": "markdown",
   "metadata": {},
   "source": [
    "## Load the Data Set"
   ]
  },
  {
   "cell_type": "code",
   "execution_count": 5,
   "metadata": {},
   "outputs": [],
   "source": [
    "import numpy as np\n",
    "from sklearn.preprocessing import StandardScaler\n",
    "\n",
    "\n",
    "data = np.load('data.npz')\n",
    "X_train = data['X_train']\n",
    "X_test = data['X_test']\n",
    "y_train = data['y_train']\n",
    "y_test = data['y_test']\n",
    "\n",
    "y_train = y_train.ravel()\n",
    "y_test = y_test.ravel()\n",
    "\n",
    "scaler = StandardScaler()\n",
    "X_train = scaler.fit_transform(X_train)\n",
    "X_test = scaler.transform(X_test)\n"
   ]
  },
  {
   "cell_type": "markdown",
   "metadata": {},
   "source": [
    "## Default SVM Model"
   ]
  },
  {
   "cell_type": "code",
   "execution_count": 6,
   "metadata": {},
   "outputs": [
    {
     "name": "stdout",
     "output_type": "stream",
     "text": [
      "Accuracy: 0.969208211143695\n",
      "\n",
      "Classification Report:\n",
      "               precision    recall  f1-score   support\n",
      "\n",
      "           0       0.97      1.00      0.98      1321\n",
      "           1       1.00      0.02      0.05        43\n",
      "\n",
      "    accuracy                           0.97      1364\n",
      "   macro avg       0.98      0.51      0.51      1364\n",
      "weighted avg       0.97      0.97      0.95      1364\n",
      "\n"
     ]
    }
   ],
   "source": [
    "from sklearn.svm import SVC\n",
    "from sklearn.metrics import classification_report, accuracy_score\n",
    "\n",
    "\n",
    "model = SVC()  \n",
    "model.fit(X_train, y_train)\n",
    "\n",
    "y_pred = model.predict(X_test)\n",
    "print(\"Accuracy:\", accuracy_score(y_test, y_pred))\n",
    "print(\"\\nClassification Report:\\n\", classification_report(y_test, y_pred))\n"
   ]
  },
  {
   "cell_type": "markdown",
   "metadata": {},
   "source": [
    "## Grid-Search "
   ]
  },
  {
   "cell_type": "code",
   "execution_count": 7,
   "metadata": {},
   "outputs": [
    {
     "name": "stdout",
     "output_type": "stream",
     "text": [
      "Fitting 3 folds for each of 16 candidates, totalling 48 fits\n"
     ]
    },
    {
     "name": "stderr",
     "output_type": "stream",
     "text": [
      "/Users/carlosrabat/Desktop/ML-Project/.venv/lib/python3.9/site-packages/sklearn/model_selection/_validation.py:993: UserWarning: Scoring failed. The score on this train-test partition for these parameters will be set to nan. Details: \n",
      "Traceback (most recent call last):\n",
      "  File \"/Users/carlosrabat/Desktop/ML-Project/.venv/lib/python3.9/site-packages/sklearn/model_selection/_validation.py\", line 982, in _score\n",
      "    scores = scorer(estimator, X_test, y_test, **score_params)\n",
      "  File \"/Users/carlosrabat/Desktop/ML-Project/.venv/lib/python3.9/site-packages/sklearn/utils/_param_validation.py\", line 191, in wrapper\n",
      "    params = func_sig.bind(*args, **kwargs)\n",
      "  File \"/Library/Developer/CommandLineTools/Library/Frameworks/Python3.framework/Versions/3.9/lib/python3.9/inspect.py\", line 3062, in bind\n",
      "    return self._bind(args, kwargs)\n",
      "  File \"/Library/Developer/CommandLineTools/Library/Frameworks/Python3.framework/Versions/3.9/lib/python3.9/inspect.py\", line 2988, in _bind\n",
      "    raise TypeError(\n",
      "TypeError: too many positional arguments\n",
      "\n",
      "  warnings.warn(\n",
      "/Users/carlosrabat/Desktop/ML-Project/.venv/lib/python3.9/site-packages/sklearn/model_selection/_validation.py:993: UserWarning: Scoring failed. The score on this train-test partition for these parameters will be set to nan. Details: \n",
      "Traceback (most recent call last):\n",
      "  File \"/Users/carlosrabat/Desktop/ML-Project/.venv/lib/python3.9/site-packages/sklearn/model_selection/_validation.py\", line 982, in _score\n",
      "    scores = scorer(estimator, X_test, y_test, **score_params)\n",
      "  File \"/Users/carlosrabat/Desktop/ML-Project/.venv/lib/python3.9/site-packages/sklearn/utils/_param_validation.py\", line 191, in wrapper\n",
      "    params = func_sig.bind(*args, **kwargs)\n",
      "  File \"/Library/Developer/CommandLineTools/Library/Frameworks/Python3.framework/Versions/3.9/lib/python3.9/inspect.py\", line 3062, in bind\n",
      "    return self._bind(args, kwargs)\n",
      "  File \"/Library/Developer/CommandLineTools/Library/Frameworks/Python3.framework/Versions/3.9/lib/python3.9/inspect.py\", line 2988, in _bind\n",
      "    raise TypeError(\n",
      "TypeError: too many positional arguments\n",
      "\n",
      "  warnings.warn(\n"
     ]
    },
    {
     "name": "stdout",
     "output_type": "stream",
     "text": [
      "[CV] END ..................C=0.1, gamma=scale, kernel=linear; total time=   0.2s\n",
      "[CV] END ..................C=0.1, gamma=scale, kernel=linear; total time=   0.2s\n"
     ]
    },
    {
     "name": "stderr",
     "output_type": "stream",
     "text": [
      "/Users/carlosrabat/Desktop/ML-Project/.venv/lib/python3.9/site-packages/sklearn/model_selection/_validation.py:993: UserWarning: Scoring failed. The score on this train-test partition for these parameters will be set to nan. Details: \n",
      "Traceback (most recent call last):\n",
      "  File \"/Users/carlosrabat/Desktop/ML-Project/.venv/lib/python3.9/site-packages/sklearn/model_selection/_validation.py\", line 982, in _score\n",
      "    scores = scorer(estimator, X_test, y_test, **score_params)\n",
      "  File \"/Users/carlosrabat/Desktop/ML-Project/.venv/lib/python3.9/site-packages/sklearn/utils/_param_validation.py\", line 191, in wrapper\n",
      "    params = func_sig.bind(*args, **kwargs)\n",
      "  File \"/Library/Developer/CommandLineTools/Library/Frameworks/Python3.framework/Versions/3.9/lib/python3.9/inspect.py\", line 3062, in bind\n",
      "    return self._bind(args, kwargs)\n",
      "  File \"/Library/Developer/CommandLineTools/Library/Frameworks/Python3.framework/Versions/3.9/lib/python3.9/inspect.py\", line 2988, in _bind\n",
      "    raise TypeError(\n",
      "TypeError: too many positional arguments\n",
      "\n",
      "  warnings.warn(\n"
     ]
    },
    {
     "name": "stdout",
     "output_type": "stream",
     "text": [
      "[CV] END ..................C=0.1, gamma=scale, kernel=linear; total time=   0.2s\n",
      "[CV] END ..............C=0.1, gamma=scale, kernel=polynomial; total time=   0.0s\n",
      "[CV] END ..............C=0.1, gamma=scale, kernel=polynomial; total time=   0.0s\n",
      "[CV] END ..............C=0.1, gamma=scale, kernel=polynomial; total time=   0.0s\n"
     ]
    },
    {
     "name": "stderr",
     "output_type": "stream",
     "text": [
      "/Users/carlosrabat/Desktop/ML-Project/.venv/lib/python3.9/site-packages/sklearn/model_selection/_validation.py:993: UserWarning: Scoring failed. The score on this train-test partition for these parameters will be set to nan. Details: \n",
      "Traceback (most recent call last):\n",
      "  File \"/Users/carlosrabat/Desktop/ML-Project/.venv/lib/python3.9/site-packages/sklearn/model_selection/_validation.py\", line 982, in _score\n",
      "    scores = scorer(estimator, X_test, y_test, **score_params)\n",
      "  File \"/Users/carlosrabat/Desktop/ML-Project/.venv/lib/python3.9/site-packages/sklearn/utils/_param_validation.py\", line 191, in wrapper\n",
      "    params = func_sig.bind(*args, **kwargs)\n",
      "  File \"/Library/Developer/CommandLineTools/Library/Frameworks/Python3.framework/Versions/3.9/lib/python3.9/inspect.py\", line 3062, in bind\n",
      "    return self._bind(args, kwargs)\n",
      "  File \"/Library/Developer/CommandLineTools/Library/Frameworks/Python3.framework/Versions/3.9/lib/python3.9/inspect.py\", line 2988, in _bind\n",
      "    raise TypeError(\n",
      "TypeError: too many positional arguments\n",
      "\n",
      "  warnings.warn(\n",
      "/Users/carlosrabat/Desktop/ML-Project/.venv/lib/python3.9/site-packages/sklearn/model_selection/_validation.py:993: UserWarning: Scoring failed. The score on this train-test partition for these parameters will be set to nan. Details: \n",
      "Traceback (most recent call last):\n",
      "  File \"/Users/carlosrabat/Desktop/ML-Project/.venv/lib/python3.9/site-packages/sklearn/model_selection/_validation.py\", line 982, in _score\n",
      "    scores = scorer(estimator, X_test, y_test, **score_params)\n",
      "  File \"/Users/carlosrabat/Desktop/ML-Project/.venv/lib/python3.9/site-packages/sklearn/utils/_param_validation.py\", line 191, in wrapper\n",
      "    params = func_sig.bind(*args, **kwargs)\n",
      "  File \"/Library/Developer/CommandLineTools/Library/Frameworks/Python3.framework/Versions/3.9/lib/python3.9/inspect.py\", line 3062, in bind\n",
      "    return self._bind(args, kwargs)\n",
      "  File \"/Library/Developer/CommandLineTools/Library/Frameworks/Python3.framework/Versions/3.9/lib/python3.9/inspect.py\", line 2988, in _bind\n",
      "    raise TypeError(\n",
      "TypeError: too many positional arguments\n",
      "\n",
      "  warnings.warn(\n"
     ]
    },
    {
     "name": "stdout",
     "output_type": "stream",
     "text": [
      "[CV] END ...................C=0.1, gamma=auto, kernel=linear; total time=   0.2s\n",
      "[CV] END ...................C=0.1, gamma=auto, kernel=linear; total time=   0.2s\n"
     ]
    },
    {
     "name": "stderr",
     "output_type": "stream",
     "text": [
      "/Users/carlosrabat/Desktop/ML-Project/.venv/lib/python3.9/site-packages/sklearn/model_selection/_validation.py:993: UserWarning: Scoring failed. The score on this train-test partition for these parameters will be set to nan. Details: \n",
      "Traceback (most recent call last):\n",
      "  File \"/Users/carlosrabat/Desktop/ML-Project/.venv/lib/python3.9/site-packages/sklearn/model_selection/_validation.py\", line 982, in _score\n",
      "    scores = scorer(estimator, X_test, y_test, **score_params)\n",
      "  File \"/Users/carlosrabat/Desktop/ML-Project/.venv/lib/python3.9/site-packages/sklearn/utils/_param_validation.py\", line 191, in wrapper\n",
      "    params = func_sig.bind(*args, **kwargs)\n",
      "  File \"/Library/Developer/CommandLineTools/Library/Frameworks/Python3.framework/Versions/3.9/lib/python3.9/inspect.py\", line 3062, in bind\n",
      "    return self._bind(args, kwargs)\n",
      "  File \"/Library/Developer/CommandLineTools/Library/Frameworks/Python3.framework/Versions/3.9/lib/python3.9/inspect.py\", line 2988, in _bind\n",
      "    raise TypeError(\n",
      "TypeError: too many positional arguments\n",
      "\n",
      "  warnings.warn(\n"
     ]
    },
    {
     "name": "stdout",
     "output_type": "stream",
     "text": [
      "[CV] END ...................C=0.1, gamma=auto, kernel=linear; total time=   0.2s\n",
      "[CV] END ...............C=0.1, gamma=auto, kernel=polynomial; total time=   0.0s\n",
      "[CV] END ...............C=0.1, gamma=auto, kernel=polynomial; total time=   0.0s\n",
      "[CV] END ...............C=0.1, gamma=auto, kernel=polynomial; total time=   0.0s\n"
     ]
    },
    {
     "name": "stderr",
     "output_type": "stream",
     "text": [
      "/Users/carlosrabat/Desktop/ML-Project/.venv/lib/python3.9/site-packages/sklearn/model_selection/_validation.py:993: UserWarning: Scoring failed. The score on this train-test partition for these parameters will be set to nan. Details: \n",
      "Traceback (most recent call last):\n",
      "  File \"/Users/carlosrabat/Desktop/ML-Project/.venv/lib/python3.9/site-packages/sklearn/model_selection/_validation.py\", line 982, in _score\n",
      "    scores = scorer(estimator, X_test, y_test, **score_params)\n",
      "  File \"/Users/carlosrabat/Desktop/ML-Project/.venv/lib/python3.9/site-packages/sklearn/utils/_param_validation.py\", line 191, in wrapper\n",
      "    params = func_sig.bind(*args, **kwargs)\n",
      "  File \"/Library/Developer/CommandLineTools/Library/Frameworks/Python3.framework/Versions/3.9/lib/python3.9/inspect.py\", line 3062, in bind\n",
      "    return self._bind(args, kwargs)\n",
      "  File \"/Library/Developer/CommandLineTools/Library/Frameworks/Python3.framework/Versions/3.9/lib/python3.9/inspect.py\", line 2988, in _bind\n",
      "    raise TypeError(\n",
      "TypeError: too many positional arguments\n",
      "\n",
      "  warnings.warn(\n"
     ]
    },
    {
     "name": "stdout",
     "output_type": "stream",
     "text": [
      "[CV] END ....................C=1, gamma=scale, kernel=linear; total time=   0.4s\n"
     ]
    },
    {
     "name": "stderr",
     "output_type": "stream",
     "text": [
      "/Users/carlosrabat/Desktop/ML-Project/.venv/lib/python3.9/site-packages/sklearn/model_selection/_validation.py:993: UserWarning: Scoring failed. The score on this train-test partition for these parameters will be set to nan. Details: \n",
      "Traceback (most recent call last):\n",
      "  File \"/Users/carlosrabat/Desktop/ML-Project/.venv/lib/python3.9/site-packages/sklearn/model_selection/_validation.py\", line 982, in _score\n",
      "    scores = scorer(estimator, X_test, y_test, **score_params)\n",
      "  File \"/Users/carlosrabat/Desktop/ML-Project/.venv/lib/python3.9/site-packages/sklearn/utils/_param_validation.py\", line 191, in wrapper\n",
      "    params = func_sig.bind(*args, **kwargs)\n",
      "  File \"/Library/Developer/CommandLineTools/Library/Frameworks/Python3.framework/Versions/3.9/lib/python3.9/inspect.py\", line 3062, in bind\n",
      "    return self._bind(args, kwargs)\n",
      "  File \"/Library/Developer/CommandLineTools/Library/Frameworks/Python3.framework/Versions/3.9/lib/python3.9/inspect.py\", line 2988, in _bind\n",
      "    raise TypeError(\n",
      "TypeError: too many positional arguments\n",
      "\n",
      "  warnings.warn(\n"
     ]
    },
    {
     "name": "stdout",
     "output_type": "stream",
     "text": [
      "[CV] END ....................C=1, gamma=scale, kernel=linear; total time=   0.3s\n"
     ]
    },
    {
     "name": "stderr",
     "output_type": "stream",
     "text": [
      "/Users/carlosrabat/Desktop/ML-Project/.venv/lib/python3.9/site-packages/sklearn/model_selection/_validation.py:993: UserWarning: Scoring failed. The score on this train-test partition for these parameters will be set to nan. Details: \n",
      "Traceback (most recent call last):\n",
      "  File \"/Users/carlosrabat/Desktop/ML-Project/.venv/lib/python3.9/site-packages/sklearn/model_selection/_validation.py\", line 982, in _score\n",
      "    scores = scorer(estimator, X_test, y_test, **score_params)\n",
      "  File \"/Users/carlosrabat/Desktop/ML-Project/.venv/lib/python3.9/site-packages/sklearn/utils/_param_validation.py\", line 191, in wrapper\n",
      "    params = func_sig.bind(*args, **kwargs)\n",
      "  File \"/Library/Developer/CommandLineTools/Library/Frameworks/Python3.framework/Versions/3.9/lib/python3.9/inspect.py\", line 3062, in bind\n",
      "    return self._bind(args, kwargs)\n",
      "  File \"/Library/Developer/CommandLineTools/Library/Frameworks/Python3.framework/Versions/3.9/lib/python3.9/inspect.py\", line 2988, in _bind\n",
      "    raise TypeError(\n",
      "TypeError: too many positional arguments\n",
      "\n",
      "  warnings.warn(\n"
     ]
    },
    {
     "name": "stdout",
     "output_type": "stream",
     "text": [
      "[CV] END ....................C=1, gamma=scale, kernel=linear; total time=   0.3s\n",
      "[CV] END ................C=1, gamma=scale, kernel=polynomial; total time=   0.0s\n",
      "[CV] END ................C=1, gamma=scale, kernel=polynomial; total time=   0.0s\n",
      "[CV] END ................C=1, gamma=scale, kernel=polynomial; total time=   0.0s\n"
     ]
    },
    {
     "name": "stderr",
     "output_type": "stream",
     "text": [
      "/Users/carlosrabat/Desktop/ML-Project/.venv/lib/python3.9/site-packages/sklearn/model_selection/_validation.py:993: UserWarning: Scoring failed. The score on this train-test partition for these parameters will be set to nan. Details: \n",
      "Traceback (most recent call last):\n",
      "  File \"/Users/carlosrabat/Desktop/ML-Project/.venv/lib/python3.9/site-packages/sklearn/model_selection/_validation.py\", line 982, in _score\n",
      "    scores = scorer(estimator, X_test, y_test, **score_params)\n",
      "  File \"/Users/carlosrabat/Desktop/ML-Project/.venv/lib/python3.9/site-packages/sklearn/utils/_param_validation.py\", line 191, in wrapper\n",
      "    params = func_sig.bind(*args, **kwargs)\n",
      "  File \"/Library/Developer/CommandLineTools/Library/Frameworks/Python3.framework/Versions/3.9/lib/python3.9/inspect.py\", line 3062, in bind\n",
      "    return self._bind(args, kwargs)\n",
      "  File \"/Library/Developer/CommandLineTools/Library/Frameworks/Python3.framework/Versions/3.9/lib/python3.9/inspect.py\", line 2988, in _bind\n",
      "    raise TypeError(\n",
      "TypeError: too many positional arguments\n",
      "\n",
      "  warnings.warn(\n"
     ]
    },
    {
     "name": "stdout",
     "output_type": "stream",
     "text": [
      "[CV] END .....................C=1, gamma=auto, kernel=linear; total time=   0.4s\n"
     ]
    },
    {
     "name": "stderr",
     "output_type": "stream",
     "text": [
      "/Users/carlosrabat/Desktop/ML-Project/.venv/lib/python3.9/site-packages/sklearn/model_selection/_validation.py:993: UserWarning: Scoring failed. The score on this train-test partition for these parameters will be set to nan. Details: \n",
      "Traceback (most recent call last):\n",
      "  File \"/Users/carlosrabat/Desktop/ML-Project/.venv/lib/python3.9/site-packages/sklearn/model_selection/_validation.py\", line 982, in _score\n",
      "    scores = scorer(estimator, X_test, y_test, **score_params)\n",
      "  File \"/Users/carlosrabat/Desktop/ML-Project/.venv/lib/python3.9/site-packages/sklearn/utils/_param_validation.py\", line 191, in wrapper\n",
      "    params = func_sig.bind(*args, **kwargs)\n",
      "  File \"/Library/Developer/CommandLineTools/Library/Frameworks/Python3.framework/Versions/3.9/lib/python3.9/inspect.py\", line 3062, in bind\n",
      "    return self._bind(args, kwargs)\n",
      "  File \"/Library/Developer/CommandLineTools/Library/Frameworks/Python3.framework/Versions/3.9/lib/python3.9/inspect.py\", line 2988, in _bind\n",
      "    raise TypeError(\n",
      "TypeError: too many positional arguments\n",
      "\n",
      "  warnings.warn(\n"
     ]
    },
    {
     "name": "stdout",
     "output_type": "stream",
     "text": [
      "[CV] END .....................C=1, gamma=auto, kernel=linear; total time=   0.3s\n"
     ]
    },
    {
     "name": "stderr",
     "output_type": "stream",
     "text": [
      "/Users/carlosrabat/Desktop/ML-Project/.venv/lib/python3.9/site-packages/sklearn/model_selection/_validation.py:993: UserWarning: Scoring failed. The score on this train-test partition for these parameters will be set to nan. Details: \n",
      "Traceback (most recent call last):\n",
      "  File \"/Users/carlosrabat/Desktop/ML-Project/.venv/lib/python3.9/site-packages/sklearn/model_selection/_validation.py\", line 982, in _score\n",
      "    scores = scorer(estimator, X_test, y_test, **score_params)\n",
      "  File \"/Users/carlosrabat/Desktop/ML-Project/.venv/lib/python3.9/site-packages/sklearn/utils/_param_validation.py\", line 191, in wrapper\n",
      "    params = func_sig.bind(*args, **kwargs)\n",
      "  File \"/Library/Developer/CommandLineTools/Library/Frameworks/Python3.framework/Versions/3.9/lib/python3.9/inspect.py\", line 3062, in bind\n",
      "    return self._bind(args, kwargs)\n",
      "  File \"/Library/Developer/CommandLineTools/Library/Frameworks/Python3.framework/Versions/3.9/lib/python3.9/inspect.py\", line 2988, in _bind\n",
      "    raise TypeError(\n",
      "TypeError: too many positional arguments\n",
      "\n",
      "  warnings.warn(\n"
     ]
    },
    {
     "name": "stdout",
     "output_type": "stream",
     "text": [
      "[CV] END .....................C=1, gamma=auto, kernel=linear; total time=   0.4s\n",
      "[CV] END .................C=1, gamma=auto, kernel=polynomial; total time=   0.0s\n",
      "[CV] END .................C=1, gamma=auto, kernel=polynomial; total time=   0.0s\n",
      "[CV] END .................C=1, gamma=auto, kernel=polynomial; total time=   0.0s\n"
     ]
    },
    {
     "name": "stderr",
     "output_type": "stream",
     "text": [
      "/Users/carlosrabat/Desktop/ML-Project/.venv/lib/python3.9/site-packages/sklearn/model_selection/_validation.py:993: UserWarning: Scoring failed. The score on this train-test partition for these parameters will be set to nan. Details: \n",
      "Traceback (most recent call last):\n",
      "  File \"/Users/carlosrabat/Desktop/ML-Project/.venv/lib/python3.9/site-packages/sklearn/model_selection/_validation.py\", line 982, in _score\n",
      "    scores = scorer(estimator, X_test, y_test, **score_params)\n",
      "  File \"/Users/carlosrabat/Desktop/ML-Project/.venv/lib/python3.9/site-packages/sklearn/utils/_param_validation.py\", line 191, in wrapper\n",
      "    params = func_sig.bind(*args, **kwargs)\n",
      "  File \"/Library/Developer/CommandLineTools/Library/Frameworks/Python3.framework/Versions/3.9/lib/python3.9/inspect.py\", line 3062, in bind\n",
      "    return self._bind(args, kwargs)\n",
      "  File \"/Library/Developer/CommandLineTools/Library/Frameworks/Python3.framework/Versions/3.9/lib/python3.9/inspect.py\", line 2988, in _bind\n",
      "    raise TypeError(\n",
      "TypeError: too many positional arguments\n",
      "\n",
      "  warnings.warn(\n"
     ]
    },
    {
     "name": "stdout",
     "output_type": "stream",
     "text": [
      "[CV] END ...................C=10, gamma=scale, kernel=linear; total time=   1.9s\n"
     ]
    },
    {
     "name": "stderr",
     "output_type": "stream",
     "text": [
      "/Users/carlosrabat/Desktop/ML-Project/.venv/lib/python3.9/site-packages/sklearn/model_selection/_validation.py:993: UserWarning: Scoring failed. The score on this train-test partition for these parameters will be set to nan. Details: \n",
      "Traceback (most recent call last):\n",
      "  File \"/Users/carlosrabat/Desktop/ML-Project/.venv/lib/python3.9/site-packages/sklearn/model_selection/_validation.py\", line 982, in _score\n",
      "    scores = scorer(estimator, X_test, y_test, **score_params)\n",
      "  File \"/Users/carlosrabat/Desktop/ML-Project/.venv/lib/python3.9/site-packages/sklearn/utils/_param_validation.py\", line 191, in wrapper\n",
      "    params = func_sig.bind(*args, **kwargs)\n",
      "  File \"/Library/Developer/CommandLineTools/Library/Frameworks/Python3.framework/Versions/3.9/lib/python3.9/inspect.py\", line 3062, in bind\n",
      "    return self._bind(args, kwargs)\n",
      "  File \"/Library/Developer/CommandLineTools/Library/Frameworks/Python3.framework/Versions/3.9/lib/python3.9/inspect.py\", line 2988, in _bind\n",
      "    raise TypeError(\n",
      "TypeError: too many positional arguments\n",
      "\n",
      "  warnings.warn(\n"
     ]
    },
    {
     "name": "stdout",
     "output_type": "stream",
     "text": [
      "[CV] END ...................C=10, gamma=scale, kernel=linear; total time=   1.3s\n"
     ]
    },
    {
     "name": "stderr",
     "output_type": "stream",
     "text": [
      "/Users/carlosrabat/Desktop/ML-Project/.venv/lib/python3.9/site-packages/sklearn/model_selection/_validation.py:993: UserWarning: Scoring failed. The score on this train-test partition for these parameters will be set to nan. Details: \n",
      "Traceback (most recent call last):\n",
      "  File \"/Users/carlosrabat/Desktop/ML-Project/.venv/lib/python3.9/site-packages/sklearn/model_selection/_validation.py\", line 982, in _score\n",
      "    scores = scorer(estimator, X_test, y_test, **score_params)\n",
      "  File \"/Users/carlosrabat/Desktop/ML-Project/.venv/lib/python3.9/site-packages/sklearn/utils/_param_validation.py\", line 191, in wrapper\n",
      "    params = func_sig.bind(*args, **kwargs)\n",
      "  File \"/Library/Developer/CommandLineTools/Library/Frameworks/Python3.framework/Versions/3.9/lib/python3.9/inspect.py\", line 3062, in bind\n",
      "    return self._bind(args, kwargs)\n",
      "  File \"/Library/Developer/CommandLineTools/Library/Frameworks/Python3.framework/Versions/3.9/lib/python3.9/inspect.py\", line 2988, in _bind\n",
      "    raise TypeError(\n",
      "TypeError: too many positional arguments\n",
      "\n",
      "  warnings.warn(\n"
     ]
    },
    {
     "name": "stdout",
     "output_type": "stream",
     "text": [
      "[CV] END ...................C=10, gamma=scale, kernel=linear; total time=   1.5s\n",
      "[CV] END ...............C=10, gamma=scale, kernel=polynomial; total time=   0.0s\n",
      "[CV] END ...............C=10, gamma=scale, kernel=polynomial; total time=   0.0s\n",
      "[CV] END ...............C=10, gamma=scale, kernel=polynomial; total time=   0.0s\n"
     ]
    },
    {
     "name": "stderr",
     "output_type": "stream",
     "text": [
      "/Users/carlosrabat/Desktop/ML-Project/.venv/lib/python3.9/site-packages/sklearn/model_selection/_validation.py:993: UserWarning: Scoring failed. The score on this train-test partition for these parameters will be set to nan. Details: \n",
      "Traceback (most recent call last):\n",
      "  File \"/Users/carlosrabat/Desktop/ML-Project/.venv/lib/python3.9/site-packages/sklearn/model_selection/_validation.py\", line 982, in _score\n",
      "    scores = scorer(estimator, X_test, y_test, **score_params)\n",
      "  File \"/Users/carlosrabat/Desktop/ML-Project/.venv/lib/python3.9/site-packages/sklearn/utils/_param_validation.py\", line 191, in wrapper\n",
      "    params = func_sig.bind(*args, **kwargs)\n",
      "  File \"/Library/Developer/CommandLineTools/Library/Frameworks/Python3.framework/Versions/3.9/lib/python3.9/inspect.py\", line 3062, in bind\n",
      "    return self._bind(args, kwargs)\n",
      "  File \"/Library/Developer/CommandLineTools/Library/Frameworks/Python3.framework/Versions/3.9/lib/python3.9/inspect.py\", line 2988, in _bind\n",
      "    raise TypeError(\n",
      "TypeError: too many positional arguments\n",
      "\n",
      "  warnings.warn(\n"
     ]
    },
    {
     "name": "stdout",
     "output_type": "stream",
     "text": [
      "[CV] END ....................C=10, gamma=auto, kernel=linear; total time=   1.9s\n"
     ]
    },
    {
     "name": "stderr",
     "output_type": "stream",
     "text": [
      "/Users/carlosrabat/Desktop/ML-Project/.venv/lib/python3.9/site-packages/sklearn/model_selection/_validation.py:993: UserWarning: Scoring failed. The score on this train-test partition for these parameters will be set to nan. Details: \n",
      "Traceback (most recent call last):\n",
      "  File \"/Users/carlosrabat/Desktop/ML-Project/.venv/lib/python3.9/site-packages/sklearn/model_selection/_validation.py\", line 982, in _score\n",
      "    scores = scorer(estimator, X_test, y_test, **score_params)\n",
      "  File \"/Users/carlosrabat/Desktop/ML-Project/.venv/lib/python3.9/site-packages/sklearn/utils/_param_validation.py\", line 191, in wrapper\n",
      "    params = func_sig.bind(*args, **kwargs)\n",
      "  File \"/Library/Developer/CommandLineTools/Library/Frameworks/Python3.framework/Versions/3.9/lib/python3.9/inspect.py\", line 3062, in bind\n",
      "    return self._bind(args, kwargs)\n",
      "  File \"/Library/Developer/CommandLineTools/Library/Frameworks/Python3.framework/Versions/3.9/lib/python3.9/inspect.py\", line 2988, in _bind\n",
      "    raise TypeError(\n",
      "TypeError: too many positional arguments\n",
      "\n",
      "  warnings.warn(\n"
     ]
    },
    {
     "name": "stdout",
     "output_type": "stream",
     "text": [
      "[CV] END ....................C=10, gamma=auto, kernel=linear; total time=   1.3s\n"
     ]
    },
    {
     "name": "stderr",
     "output_type": "stream",
     "text": [
      "/Users/carlosrabat/Desktop/ML-Project/.venv/lib/python3.9/site-packages/sklearn/model_selection/_validation.py:993: UserWarning: Scoring failed. The score on this train-test partition for these parameters will be set to nan. Details: \n",
      "Traceback (most recent call last):\n",
      "  File \"/Users/carlosrabat/Desktop/ML-Project/.venv/lib/python3.9/site-packages/sklearn/model_selection/_validation.py\", line 982, in _score\n",
      "    scores = scorer(estimator, X_test, y_test, **score_params)\n",
      "  File \"/Users/carlosrabat/Desktop/ML-Project/.venv/lib/python3.9/site-packages/sklearn/utils/_param_validation.py\", line 191, in wrapper\n",
      "    params = func_sig.bind(*args, **kwargs)\n",
      "  File \"/Library/Developer/CommandLineTools/Library/Frameworks/Python3.framework/Versions/3.9/lib/python3.9/inspect.py\", line 3062, in bind\n",
      "    return self._bind(args, kwargs)\n",
      "  File \"/Library/Developer/CommandLineTools/Library/Frameworks/Python3.framework/Versions/3.9/lib/python3.9/inspect.py\", line 2988, in _bind\n",
      "    raise TypeError(\n",
      "TypeError: too many positional arguments\n",
      "\n",
      "  warnings.warn(\n"
     ]
    },
    {
     "name": "stdout",
     "output_type": "stream",
     "text": [
      "[CV] END ....................C=10, gamma=auto, kernel=linear; total time=   1.5s\n",
      "[CV] END ................C=10, gamma=auto, kernel=polynomial; total time=   0.0s\n",
      "[CV] END ................C=10, gamma=auto, kernel=polynomial; total time=   0.0s\n",
      "[CV] END ................C=10, gamma=auto, kernel=polynomial; total time=   0.0s\n"
     ]
    },
    {
     "name": "stderr",
     "output_type": "stream",
     "text": [
      "/Users/carlosrabat/Desktop/ML-Project/.venv/lib/python3.9/site-packages/sklearn/model_selection/_validation.py:993: UserWarning: Scoring failed. The score on this train-test partition for these parameters will be set to nan. Details: \n",
      "Traceback (most recent call last):\n",
      "  File \"/Users/carlosrabat/Desktop/ML-Project/.venv/lib/python3.9/site-packages/sklearn/model_selection/_validation.py\", line 982, in _score\n",
      "    scores = scorer(estimator, X_test, y_test, **score_params)\n",
      "  File \"/Users/carlosrabat/Desktop/ML-Project/.venv/lib/python3.9/site-packages/sklearn/utils/_param_validation.py\", line 191, in wrapper\n",
      "    params = func_sig.bind(*args, **kwargs)\n",
      "  File \"/Library/Developer/CommandLineTools/Library/Frameworks/Python3.framework/Versions/3.9/lib/python3.9/inspect.py\", line 3062, in bind\n",
      "    return self._bind(args, kwargs)\n",
      "  File \"/Library/Developer/CommandLineTools/Library/Frameworks/Python3.framework/Versions/3.9/lib/python3.9/inspect.py\", line 2988, in _bind\n",
      "    raise TypeError(\n",
      "TypeError: too many positional arguments\n",
      "\n",
      "  warnings.warn(\n"
     ]
    },
    {
     "name": "stdout",
     "output_type": "stream",
     "text": [
      "[CV] END ..................C=100, gamma=scale, kernel=linear; total time=  16.8s\n"
     ]
    },
    {
     "name": "stderr",
     "output_type": "stream",
     "text": [
      "/Users/carlosrabat/Desktop/ML-Project/.venv/lib/python3.9/site-packages/sklearn/model_selection/_validation.py:993: UserWarning: Scoring failed. The score on this train-test partition for these parameters will be set to nan. Details: \n",
      "Traceback (most recent call last):\n",
      "  File \"/Users/carlosrabat/Desktop/ML-Project/.venv/lib/python3.9/site-packages/sklearn/model_selection/_validation.py\", line 982, in _score\n",
      "    scores = scorer(estimator, X_test, y_test, **score_params)\n",
      "  File \"/Users/carlosrabat/Desktop/ML-Project/.venv/lib/python3.9/site-packages/sklearn/utils/_param_validation.py\", line 191, in wrapper\n",
      "    params = func_sig.bind(*args, **kwargs)\n",
      "  File \"/Library/Developer/CommandLineTools/Library/Frameworks/Python3.framework/Versions/3.9/lib/python3.9/inspect.py\", line 3062, in bind\n",
      "    return self._bind(args, kwargs)\n",
      "  File \"/Library/Developer/CommandLineTools/Library/Frameworks/Python3.framework/Versions/3.9/lib/python3.9/inspect.py\", line 2988, in _bind\n",
      "    raise TypeError(\n",
      "TypeError: too many positional arguments\n",
      "\n",
      "  warnings.warn(\n"
     ]
    },
    {
     "name": "stdout",
     "output_type": "stream",
     "text": [
      "[CV] END ..................C=100, gamma=scale, kernel=linear; total time=  12.7s\n"
     ]
    },
    {
     "name": "stderr",
     "output_type": "stream",
     "text": [
      "/Users/carlosrabat/Desktop/ML-Project/.venv/lib/python3.9/site-packages/sklearn/model_selection/_validation.py:993: UserWarning: Scoring failed. The score on this train-test partition for these parameters will be set to nan. Details: \n",
      "Traceback (most recent call last):\n",
      "  File \"/Users/carlosrabat/Desktop/ML-Project/.venv/lib/python3.9/site-packages/sklearn/model_selection/_validation.py\", line 982, in _score\n",
      "    scores = scorer(estimator, X_test, y_test, **score_params)\n",
      "  File \"/Users/carlosrabat/Desktop/ML-Project/.venv/lib/python3.9/site-packages/sklearn/utils/_param_validation.py\", line 191, in wrapper\n",
      "    params = func_sig.bind(*args, **kwargs)\n",
      "  File \"/Library/Developer/CommandLineTools/Library/Frameworks/Python3.framework/Versions/3.9/lib/python3.9/inspect.py\", line 3062, in bind\n",
      "    return self._bind(args, kwargs)\n",
      "  File \"/Library/Developer/CommandLineTools/Library/Frameworks/Python3.framework/Versions/3.9/lib/python3.9/inspect.py\", line 2988, in _bind\n",
      "    raise TypeError(\n",
      "TypeError: too many positional arguments\n",
      "\n",
      "  warnings.warn(\n"
     ]
    },
    {
     "name": "stdout",
     "output_type": "stream",
     "text": [
      "[CV] END ..................C=100, gamma=scale, kernel=linear; total time=  13.3s\n",
      "[CV] END ..............C=100, gamma=scale, kernel=polynomial; total time=   0.0s\n",
      "[CV] END ..............C=100, gamma=scale, kernel=polynomial; total time=   0.0s\n",
      "[CV] END ..............C=100, gamma=scale, kernel=polynomial; total time=   0.0s\n"
     ]
    },
    {
     "name": "stderr",
     "output_type": "stream",
     "text": [
      "/Users/carlosrabat/Desktop/ML-Project/.venv/lib/python3.9/site-packages/sklearn/model_selection/_validation.py:993: UserWarning: Scoring failed. The score on this train-test partition for these parameters will be set to nan. Details: \n",
      "Traceback (most recent call last):\n",
      "  File \"/Users/carlosrabat/Desktop/ML-Project/.venv/lib/python3.9/site-packages/sklearn/model_selection/_validation.py\", line 982, in _score\n",
      "    scores = scorer(estimator, X_test, y_test, **score_params)\n",
      "  File \"/Users/carlosrabat/Desktop/ML-Project/.venv/lib/python3.9/site-packages/sklearn/utils/_param_validation.py\", line 191, in wrapper\n",
      "    params = func_sig.bind(*args, **kwargs)\n",
      "  File \"/Library/Developer/CommandLineTools/Library/Frameworks/Python3.framework/Versions/3.9/lib/python3.9/inspect.py\", line 3062, in bind\n",
      "    return self._bind(args, kwargs)\n",
      "  File \"/Library/Developer/CommandLineTools/Library/Frameworks/Python3.framework/Versions/3.9/lib/python3.9/inspect.py\", line 2988, in _bind\n",
      "    raise TypeError(\n",
      "TypeError: too many positional arguments\n",
      "\n",
      "  warnings.warn(\n"
     ]
    },
    {
     "name": "stdout",
     "output_type": "stream",
     "text": [
      "[CV] END ...................C=100, gamma=auto, kernel=linear; total time=  16.8s\n"
     ]
    },
    {
     "name": "stderr",
     "output_type": "stream",
     "text": [
      "/Users/carlosrabat/Desktop/ML-Project/.venv/lib/python3.9/site-packages/sklearn/model_selection/_validation.py:993: UserWarning: Scoring failed. The score on this train-test partition for these parameters will be set to nan. Details: \n",
      "Traceback (most recent call last):\n",
      "  File \"/Users/carlosrabat/Desktop/ML-Project/.venv/lib/python3.9/site-packages/sklearn/model_selection/_validation.py\", line 982, in _score\n",
      "    scores = scorer(estimator, X_test, y_test, **score_params)\n",
      "  File \"/Users/carlosrabat/Desktop/ML-Project/.venv/lib/python3.9/site-packages/sklearn/utils/_param_validation.py\", line 191, in wrapper\n",
      "    params = func_sig.bind(*args, **kwargs)\n",
      "  File \"/Library/Developer/CommandLineTools/Library/Frameworks/Python3.framework/Versions/3.9/lib/python3.9/inspect.py\", line 3062, in bind\n",
      "    return self._bind(args, kwargs)\n",
      "  File \"/Library/Developer/CommandLineTools/Library/Frameworks/Python3.framework/Versions/3.9/lib/python3.9/inspect.py\", line 2988, in _bind\n",
      "    raise TypeError(\n",
      "TypeError: too many positional arguments\n",
      "\n",
      "  warnings.warn(\n"
     ]
    },
    {
     "name": "stdout",
     "output_type": "stream",
     "text": [
      "[CV] END ...................C=100, gamma=auto, kernel=linear; total time=  12.8s\n"
     ]
    },
    {
     "name": "stderr",
     "output_type": "stream",
     "text": [
      "/Users/carlosrabat/Desktop/ML-Project/.venv/lib/python3.9/site-packages/sklearn/model_selection/_validation.py:993: UserWarning: Scoring failed. The score on this train-test partition for these parameters will be set to nan. Details: \n",
      "Traceback (most recent call last):\n",
      "  File \"/Users/carlosrabat/Desktop/ML-Project/.venv/lib/python3.9/site-packages/sklearn/model_selection/_validation.py\", line 982, in _score\n",
      "    scores = scorer(estimator, X_test, y_test, **score_params)\n",
      "  File \"/Users/carlosrabat/Desktop/ML-Project/.venv/lib/python3.9/site-packages/sklearn/utils/_param_validation.py\", line 191, in wrapper\n",
      "    params = func_sig.bind(*args, **kwargs)\n",
      "  File \"/Library/Developer/CommandLineTools/Library/Frameworks/Python3.framework/Versions/3.9/lib/python3.9/inspect.py\", line 3062, in bind\n",
      "    return self._bind(args, kwargs)\n",
      "  File \"/Library/Developer/CommandLineTools/Library/Frameworks/Python3.framework/Versions/3.9/lib/python3.9/inspect.py\", line 2988, in _bind\n",
      "    raise TypeError(\n",
      "TypeError: too many positional arguments\n",
      "\n",
      "  warnings.warn(\n",
      "/Users/carlosrabat/Desktop/ML-Project/.venv/lib/python3.9/site-packages/sklearn/model_selection/_validation.py:547: FitFailedWarning: \n",
      "24 fits failed out of a total of 48.\n",
      "The score on these train-test partitions for these parameters will be set to nan.\n",
      "If these failures are not expected, you can try to debug them by setting error_score='raise'.\n",
      "\n",
      "Below are more details about the failures:\n",
      "--------------------------------------------------------------------------------\n",
      "24 fits failed with the following error:\n",
      "Traceback (most recent call last):\n",
      "  File \"/Users/carlosrabat/Desktop/ML-Project/.venv/lib/python3.9/site-packages/sklearn/model_selection/_validation.py\", line 895, in _fit_and_score\n",
      "    estimator.fit(X_train, y_train, **fit_params)\n",
      "  File \"/Users/carlosrabat/Desktop/ML-Project/.venv/lib/python3.9/site-packages/sklearn/base.py\", line 1467, in wrapper\n",
      "    estimator._validate_params()\n",
      "  File \"/Users/carlosrabat/Desktop/ML-Project/.venv/lib/python3.9/site-packages/sklearn/base.py\", line 666, in _validate_params\n",
      "    validate_parameter_constraints(\n",
      "  File \"/Users/carlosrabat/Desktop/ML-Project/.venv/lib/python3.9/site-packages/sklearn/utils/_param_validation.py\", line 95, in validate_parameter_constraints\n",
      "    raise InvalidParameterError(\n",
      "sklearn.utils._param_validation.InvalidParameterError: The 'kernel' parameter of SVC must be a str among {'rbf', 'poly', 'sigmoid', 'linear', 'precomputed'} or a callable. Got 'polynomial' instead.\n",
      "\n",
      "  warnings.warn(some_fits_failed_message, FitFailedWarning)\n",
      "/Users/carlosrabat/Desktop/ML-Project/.venv/lib/python3.9/site-packages/sklearn/model_selection/_search.py:1051: UserWarning: One or more of the test scores are non-finite: [nan nan nan nan nan nan nan nan nan nan nan nan nan nan nan nan]\n",
      "  warnings.warn(\n"
     ]
    },
    {
     "name": "stdout",
     "output_type": "stream",
     "text": [
      "[CV] END ...................C=100, gamma=auto, kernel=linear; total time=  13.3s\n",
      "[CV] END ...............C=100, gamma=auto, kernel=polynomial; total time=   0.0s\n",
      "[CV] END ...............C=100, gamma=auto, kernel=polynomial; total time=   0.0s\n",
      "[CV] END ...............C=100, gamma=auto, kernel=polynomial; total time=   0.0s\n",
      "Best parameters: {'C': 0.1, 'gamma': 'scale', 'kernel': 'linear'}\n",
      "Best recall obtained: nan\n"
     ]
    }
   ],
   "source": [
    "from sklearn.model_selection import GridSearchCV\n",
    "from sklearn.metrics import recall_score, make_scorer, f1_score\n",
    "\n",
    "# Define SVM model\n",
    "model = SVC(class_weight='balanced')\n",
    "\n",
    "# Define the recall scorer\n",
    "recall_scorer = make_scorer(recall_score)\n",
    "\n",
    "# Define parameter grid\n",
    "param_grid = {\n",
    "    'C': [0.1, 1, 10, 100],\n",
    "    'kernel': ['linear', 'polynomial'],\n",
    "    'gamma': ['scale', 'auto']\n",
    "}\n",
    "\n",
    "# Initialize Grid Search with recall scorer\n",
    "grid_search = GridSearchCV(estimator=model, param_grid=param_grid, scoring=f1_score, cv=3, verbose=2)\n",
    "\n",
    "# Perform grid search\n",
    "grid_search.fit(X_train, y_train)\n",
    "\n",
    "# Best parameters and best recall\n",
    "print(\"Best parameters:\", grid_search.best_params_)\n",
    "print(\"Best recall obtained: {:.2f}\".format(grid_search.best_score_))\n"
   ]
  },
  {
   "cell_type": "markdown",
   "metadata": {},
   "source": [
    "## Optimized SVM Model"
   ]
  },
  {
   "cell_type": "code",
   "execution_count": 8,
   "metadata": {},
   "outputs": [
    {
     "name": "stdout",
     "output_type": "stream",
     "text": [
      "Accuracy: 0.8680351906158358\n",
      "\n",
      "Classification Report:\n",
      "               precision    recall  f1-score   support\n",
      "\n",
      "           0       0.99      0.87      0.93      1321\n",
      "           1       0.16      0.77      0.27        43\n",
      "\n",
      "    accuracy                           0.87      1364\n",
      "   macro avg       0.58      0.82      0.60      1364\n",
      "weighted avg       0.97      0.87      0.91      1364\n",
      "\n"
     ]
    }
   ],
   "source": [
    "from sklearn.svm import SVC\n",
    "from sklearn.metrics import classification_report, accuracy_score\n",
    "\n",
    "# Optimized Hyperparameter \n",
    "model = SVC(class_weight='balanced', C=1, gamma='scale', kernel='linear')  \n",
    "model.fit(X_train, y_train)\n",
    "\n",
    "y_pred = model.predict(X_test)\n",
    "print(\"Accuracy:\", accuracy_score(y_test, y_pred))\n",
    "print(\"\\nClassification Report:\\n\", classification_report(y_test, y_pred))"
   ]
  }
 ],
 "metadata": {
  "kernelspec": {
   "display_name": ".venv",
   "language": "python",
   "name": "python3"
  },
  "language_info": {
   "codemirror_mode": {
    "name": "ipython",
    "version": 3
   },
   "file_extension": ".py",
   "mimetype": "text/x-python",
   "name": "python",
   "nbconvert_exporter": "python",
   "pygments_lexer": "ipython3",
   "version": "3.9.6"
  }
 },
 "nbformat": 4,
 "nbformat_minor": 2
}
