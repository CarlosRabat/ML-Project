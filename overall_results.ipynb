{
 "cells": [
  {
   "cell_type": "markdown",
   "metadata": {},
   "source": [
    "# Evaluate Results\n",
    "- This file takes the best models for each algorithm implementation and compares them."
   ]
  },
  {
   "cell_type": "markdown",
   "metadata": {},
   "source": [
    "## Load the Test Data"
   ]
  },
  {
   "cell_type": "code",
   "execution_count": 6,
   "metadata": {},
   "outputs": [],
   "source": [
    "import numpy as np\n",
    "\n",
    "data = np.load('data.npz')\n",
    "y_test = data['y_test']"
   ]
  },
  {
   "cell_type": "markdown",
   "metadata": {},
   "source": [
    "## Get the Predictions"
   ]
  },
  {
   "cell_type": "code",
   "execution_count": 7,
   "metadata": {},
   "outputs": [
    {
     "name": "stdout",
     "output_type": "stream",
     "text": [
      "Epoch 1/25\n",
      "\u001b[1m171/171\u001b[0m \u001b[32m━━━━━━━━━━━━━━━━━━━━\u001b[0m\u001b[37m\u001b[0m \u001b[1m1s\u001b[0m 1ms/step - accuracy: 0.5879 - loss: 131774496.0000\n",
      "Epoch 2/25\n",
      "\u001b[1m171/171\u001b[0m \u001b[32m━━━━━━━━━━━━━━━━━━━━\u001b[0m\u001b[37m\u001b[0m \u001b[1m0s\u001b[0m 948us/step - accuracy: 0.6700 - loss: 33742380.0000\n",
      "Epoch 3/25\n",
      "\u001b[1m171/171\u001b[0m \u001b[32m━━━━━━━━━━━━━━━━━━━━\u001b[0m\u001b[37m\u001b[0m \u001b[1m0s\u001b[0m 951us/step - accuracy: 0.6653 - loss: 21080376.0000\n",
      "Epoch 4/25\n",
      "\u001b[1m171/171\u001b[0m \u001b[32m━━━━━━━━━━━━━━━━━━━━\u001b[0m\u001b[37m\u001b[0m \u001b[1m0s\u001b[0m 956us/step - accuracy: 0.7133 - loss: 20835038.0000\n",
      "Epoch 5/25\n",
      "\u001b[1m171/171\u001b[0m \u001b[32m━━━━━━━━━━━━━━━━━━━━\u001b[0m\u001b[37m\u001b[0m \u001b[1m0s\u001b[0m 938us/step - accuracy: 0.6930 - loss: 17408696.0000\n",
      "Epoch 6/25\n",
      "\u001b[1m171/171\u001b[0m \u001b[32m━━━━━━━━━━━━━━━━━━━━\u001b[0m\u001b[37m\u001b[0m \u001b[1m0s\u001b[0m 937us/step - accuracy: 0.7100 - loss: 15961930.0000\n",
      "Epoch 7/25\n",
      "\u001b[1m171/171\u001b[0m \u001b[32m━━━━━━━━━━━━━━━━━━━━\u001b[0m\u001b[37m\u001b[0m \u001b[1m0s\u001b[0m 928us/step - accuracy: 0.6735 - loss: 12107407.0000\n",
      "Epoch 8/25\n",
      "\u001b[1m171/171\u001b[0m \u001b[32m━━━━━━━━━━━━━━━━━━━━\u001b[0m\u001b[37m\u001b[0m \u001b[1m0s\u001b[0m 943us/step - accuracy: 0.7332 - loss: 9826499.0000\n",
      "Epoch 9/25\n",
      "\u001b[1m171/171\u001b[0m \u001b[32m━━━━━━━━━━━━━━━━━━━━\u001b[0m\u001b[37m\u001b[0m \u001b[1m0s\u001b[0m 927us/step - accuracy: 0.7160 - loss: 10449260.0000\n",
      "Epoch 10/25\n",
      "\u001b[1m171/171\u001b[0m \u001b[32m━━━━━━━━━━━━━━━━━━━━\u001b[0m\u001b[37m\u001b[0m \u001b[1m0s\u001b[0m 936us/step - accuracy: 0.7301 - loss: 8499025.0000\n",
      "Epoch 11/25\n",
      "\u001b[1m171/171\u001b[0m \u001b[32m━━━━━━━━━━━━━━━━━━━━\u001b[0m\u001b[37m\u001b[0m \u001b[1m0s\u001b[0m 1ms/step - accuracy: 0.7219 - loss: 9726192.0000\n",
      "Epoch 12/25\n",
      "\u001b[1m171/171\u001b[0m \u001b[32m━━━━━━━━━━━━━━━━━━━━\u001b[0m\u001b[37m\u001b[0m \u001b[1m0s\u001b[0m 933us/step - accuracy: 0.7165 - loss: 8828398.0000\n",
      "Epoch 13/25\n",
      "\u001b[1m171/171\u001b[0m \u001b[32m━━━━━━━━━━━━━━━━━━━━\u001b[0m\u001b[37m\u001b[0m \u001b[1m0s\u001b[0m 940us/step - accuracy: 0.7291 - loss: 8098251.5000\n",
      "Epoch 14/25\n",
      "\u001b[1m171/171\u001b[0m \u001b[32m━━━━━━━━━━━━━━━━━━━━\u001b[0m\u001b[37m\u001b[0m \u001b[1m0s\u001b[0m 959us/step - accuracy: 0.7219 - loss: 8211264.0000\n",
      "Epoch 15/25\n",
      "\u001b[1m171/171\u001b[0m \u001b[32m━━━━━━━━━━━━━━━━━━━━\u001b[0m\u001b[37m\u001b[0m \u001b[1m0s\u001b[0m 927us/step - accuracy: 0.7250 - loss: 6777002.0000\n",
      "Epoch 16/25\n",
      "\u001b[1m171/171\u001b[0m \u001b[32m━━━━━━━━━━━━━━━━━━━━\u001b[0m\u001b[37m\u001b[0m \u001b[1m0s\u001b[0m 938us/step - accuracy: 0.7663 - loss: 8815032.0000\n",
      "Epoch 17/25\n",
      "\u001b[1m171/171\u001b[0m \u001b[32m━━━━━━━━━━━━━━━━━━━━\u001b[0m\u001b[37m\u001b[0m \u001b[1m0s\u001b[0m 938us/step - accuracy: 0.7346 - loss: 6989701.0000\n",
      "Epoch 18/25\n",
      "\u001b[1m171/171\u001b[0m \u001b[32m━━━━━━━━━━━━━━━━━━━━\u001b[0m\u001b[37m\u001b[0m \u001b[1m0s\u001b[0m 926us/step - accuracy: 0.7496 - loss: 5007370.5000\n",
      "Epoch 19/25\n",
      "\u001b[1m171/171\u001b[0m \u001b[32m━━━━━━━━━━━━━━━━━━━━\u001b[0m\u001b[37m\u001b[0m \u001b[1m0s\u001b[0m 941us/step - accuracy: 0.7207 - loss: 6882031.0000\n",
      "Epoch 20/25\n",
      "\u001b[1m171/171\u001b[0m \u001b[32m━━━━━━━━━━━━━━━━━━━━\u001b[0m\u001b[37m\u001b[0m \u001b[1m0s\u001b[0m 931us/step - accuracy: 0.7708 - loss: 4104394.0000\n",
      "Epoch 21/25\n",
      "\u001b[1m171/171\u001b[0m \u001b[32m━━━━━━━━━━━━━━━━━━━━\u001b[0m\u001b[37m\u001b[0m \u001b[1m0s\u001b[0m 940us/step - accuracy: 0.7370 - loss: 5795074.5000\n",
      "Epoch 22/25\n",
      "\u001b[1m171/171\u001b[0m \u001b[32m━━━━━━━━━━━━━━━━━━━━\u001b[0m\u001b[37m\u001b[0m \u001b[1m0s\u001b[0m 937us/step - accuracy: 0.7597 - loss: 5396704.0000\n",
      "Epoch 23/25\n",
      "\u001b[1m171/171\u001b[0m \u001b[32m━━━━━━━━━━━━━━━━━━━━\u001b[0m\u001b[37m\u001b[0m \u001b[1m0s\u001b[0m 933us/step - accuracy: 0.7179 - loss: 4950524.5000\n",
      "Epoch 24/25\n",
      "\u001b[1m171/171\u001b[0m \u001b[32m━━━━━━━━━━━━━━━━━━━━\u001b[0m\u001b[37m\u001b[0m \u001b[1m0s\u001b[0m 941us/step - accuracy: 0.7200 - loss: 4091488.5000\n",
      "Epoch 25/25\n",
      "\u001b[1m171/171\u001b[0m \u001b[32m━━━━━━━━━━━━━━━━━━━━\u001b[0m\u001b[37m\u001b[0m \u001b[1m0s\u001b[0m 983us/step - accuracy: 0.7440 - loss: 3870990.5000\n",
      "\u001b[1m43/43\u001b[0m \u001b[32m━━━━━━━━━━━━━━━━━━━━\u001b[0m\u001b[37m\u001b[0m \u001b[1m0s\u001b[0m 1ms/step\n"
     ]
    }
   ],
   "source": [
    "from all_models import optimal_SVM, optimal_Decision_Tree, optimal_Logistic_Regression, optimal_MLP\n",
    "\n",
    "# Load the best model predictions\n",
    "svm_pred = optimal_SVM()\n",
    "tree_pred = optimal_Decision_Tree()\n",
    "mlp_pred = optimal_MLP()\n",
    "lr_pred = optimal_Logistic_Regression()\n",
    "\n",
    "\n",
    "# All predictions on a single data structure\n",
    "predictions = { \n",
    "               'SVM': svm_pred,\n",
    "               'Decision Tree': tree_pred,\n",
    "               'MLP': mlp_pred,\n",
    "               'Logistic Regression': lr_pred\n",
    "               }"
   ]
  },
  {
   "cell_type": "markdown",
   "metadata": {},
   "source": [
    "## Evaluate the Results\n",
    "- Classification report for each model\n",
    "- Consolidated Graph with Accuracy, Recall and F1 Score"
   ]
  },
  {
   "cell_type": "code",
   "execution_count": 8,
   "metadata": {},
   "outputs": [
    {
     "name": "stdout",
     "output_type": "stream",
     "text": [
      "Model SVM: \n",
      "Classification Report: \n",
      "               precision    recall  f1-score   support\n",
      "\n",
      "           0       0.99      0.87      0.93      1321\n",
      "           1       0.16      0.77      0.27        43\n",
      "\n",
      "    accuracy                           0.87      1364\n",
      "   macro avg       0.58      0.82      0.60      1364\n",
      "weighted avg       0.97      0.87      0.91      1364\n",
      "\n",
      "Model Decision Tree: \n",
      "Classification Report: \n",
      "               precision    recall  f1-score   support\n",
      "\n",
      "           0       0.98      0.97      0.98      1321\n",
      "           1       0.40      0.53      0.46        43\n",
      "\n",
      "    accuracy                           0.96      1364\n",
      "   macro avg       0.69      0.75      0.72      1364\n",
      "weighted avg       0.97      0.96      0.96      1364\n",
      "\n",
      "Model MLP: \n",
      "Classification Report: \n",
      "               precision    recall  f1-score   support\n",
      "\n",
      "           0       0.97      0.95      0.96      1321\n",
      "           1       0.06      0.09      0.07        43\n",
      "\n",
      "    accuracy                           0.92      1364\n",
      "   macro avg       0.51      0.52      0.52      1364\n",
      "weighted avg       0.94      0.92      0.93      1364\n",
      "\n",
      "Model Logistic Regression: \n",
      "Classification Report: \n",
      "               precision    recall  f1-score   support\n",
      "\n",
      "           0       0.99      0.97      0.98      1321\n",
      "           1       0.38      0.58      0.46        43\n",
      "\n",
      "    accuracy                           0.96      1364\n",
      "   macro avg       0.68      0.78      0.72      1364\n",
      "weighted avg       0.97      0.96      0.96      1364\n",
      "\n"
     ]
    }
   ],
   "source": [
    "from sklearn.metrics import classification_report, accuracy_score, recall_score, f1_score\n",
    "\n",
    "# Calculate the accuracy for each\n",
    "models_accuracy = { \n",
    "               'SVM': accuracy_score(y_test, svm_pred),\n",
    "               'Decision Tree': accuracy_score(y_test,tree_pred),\n",
    "               'MLP': accuracy_score(y_test,mlp_pred),\n",
    "               'Logistic Regression': accuracy_score(y_test,lr_pred)\n",
    "}\n",
    "\n",
    "models_recall = { \n",
    "               'SVM': recall_score(y_test, svm_pred),\n",
    "               'Decision Tree': recall_score(y_test,tree_pred),\n",
    "               'MLP': recall_score(y_test,mlp_pred),\n",
    "               'Logistic Regression': recall_score(y_test,lr_pred)\n",
    "}\n",
    "\n",
    "models_f1score = { \n",
    "               'SVM': f1_score(y_test, svm_pred),\n",
    "               'Decision Tree': f1_score(y_test,tree_pred),\n",
    "               'MLP': f1_score(y_test,mlp_pred),\n",
    "               'Logistic Regression': f1_score(y_test,lr_pred)\n",
    "}\n",
    "\n",
    "# Prin the Classification Report \n",
    "for key, value in predictions.items():\n",
    "    print(f'Model {key}: ')\n",
    "    print(f'Classification Report: \\n {classification_report(y_test, value)}')"
   ]
  },
  {
   "cell_type": "markdown",
   "metadata": {},
   "source": [
    "# Plotting Overall Results\n",
    "This section plots the overall results of all the optimal models against each other."
   ]
  },
  {
   "cell_type": "code",
   "execution_count": 9,
   "metadata": {},
   "outputs": [
    {
     "data": {
      "image/png": "[encoded data removed]",
      "text/plain": [
       "<Figure size 1000x500 with 1 Axes>"
      ]
     },
     "metadata": {},
     "output_type": "display_data"
    }
   ],
   "source": [
    "import matplotlib.pyplot as plt\n",
    "import numpy as np\n",
    "\n",
    "metrics = ['Accuracy', 'Recall', 'F1 Score']\n",
    "\n",
    "# Setting the positions and width for the bars\n",
    "pos = np.arange(len(metrics))\n",
    "width = 0.2  # the width of a bar\n",
    "\n",
    "# Plotting the bars\n",
    "fig, ax = plt.subplots(figsize=(10, 5))\n",
    "\n",
    "# Create bars for each model and metric\n",
    "for i, model in enumerate(models_accuracy):\n",
    "    \n",
    "    metric_data = [models_accuracy[model], models_recall[model], models_f1score[model]]\n",
    "    \n",
    "    ax.bar(pos + i * width, metric_data, width, label=model)\n",
    "\n",
    "# Set the y-axis label\n",
    "ax.set_ylabel('Score')\n",
    "ax.set_title('Model Comparison by Metric')\n",
    "ax.set_xticks(pos + width)\n",
    "ax.set_xticklabels(metrics)\n",
    "\n",
    "plt.legend(title=\"Models\")\n",
    "plt.tight_layout()\n",
    "plt.grid()\n",
    "ax.xaxis.grid(False)\n",
    "\n",
    "plt.show()"
   ]
  }
 ],
 "metadata": {
  "kernelspec": {
   "display_name": ".venv",
   "language": "python",
   "name": "python3"
  },
  "language_info": {
   "codemirror_mode": {
    "name": "ipython",
    "version": 3
   },
   "file_extension": ".py",
   "mimetype": "text/x-python",
   "name": "python",
   "nbconvert_exporter": "python",
   "pygments_lexer": "ipython3",
   "version": "3.12.2"
  }
 },
 "nbformat": 4,
 "nbformat_minor": 2
}
